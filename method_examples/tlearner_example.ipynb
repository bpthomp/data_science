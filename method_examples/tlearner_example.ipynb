{
 "cells": [
  {
   "cell_type": "markdown",
   "metadata": {},
   "source": [
    "## **CATE (T-learner) example**\n",
    "- Let's see if we can get more out of an A/B test than just \" the treatment is stat-significantly positive.\"\n",
    "- Say we're blasting emails at random to users to get them to use a feature more.\n",
    "    - Do emails work? Maybe.\n",
    "    - Business: We realized we don't want to blast everyone with emails. Who should we target for future emails?  "
   ]
  },
  {
   "cell_type": "code",
   "execution_count": 1,
   "metadata": {},
   "outputs": [],
   "source": [
    "import pandas as pd\n",
    "import numpy as np\n",
    "import matplotlib.pyplot as plt\n",
    "import statsmodels.formula.api as smf\n",
    "from lightgbm import LGBMRegressor\n",
    "from sklearn.linear_model import LinearRegression\n",
    "from sklearn.ensemble import RandomForestRegressor"
   ]
  },
  {
   "cell_type": "code",
   "execution_count": 3,
   "metadata": {},
   "outputs": [
    {
     "name": "stdout",
     "output_type": "stream",
     "text": [
      "Number of effective treatment units:\n"
     ]
    },
    {
     "data": {
      "text/plain": [
       "2505"
      ]
     },
     "execution_count": 3,
     "metadata": {},
     "output_type": "execute_result"
    }
   ],
   "source": [
    "# distribute some covariates\n",
    "\n",
    "sample_size = 10000\n",
    "\n",
    "data = {'income': np.random.randint(1000, size=sample_size),\n",
    "        'tv' : np.random.choice([0,1], size=sample_size),\n",
    "        'iphone': np.random.choice([0,1],size=sample_size),\n",
    "        'new_user': np.random.choice([0,1],size=sample_size),\n",
    "        'num_days_active_previous_month': np.random.randint(30,size=sample_size),\n",
    "        'baseline_outcome': np.random.randint(50, size=sample_size),\n",
    "        'treatment': np.random.choice([0,1], size=sample_size)}\n",
    "\n",
    "# make latent treatment effect a function of covariates\n",
    "df = pd.DataFrame(data)\n",
    "\n",
    "conditions = [ (df['iphone']==0) & (df['new_user']==0) & (df['income']>100) & (df['tv']==0), \n",
    "                (df['iphone']==1) & (df['new_user']==1) & (df['income']>500) & (df['tv']==0), \n",
    "                (df['iphone']==0) & (df['new_user']==0) & (df['income']>600) & (df['tv']==1),\n",
    "                (df['iphone']==1) & (df['new_user']==1) & (df['income']>800) & (df['tv']==1),\n",
    "\n",
    "                  ]\n",
    "treatments = [ df['baseline_outcome']*1.10, \n",
    "                df['baseline_outcome']*1.20, \n",
    "                df['baseline_outcome']*1.30,\n",
    "                df['baseline_outcome']*1.40 ]\n",
    "\n",
    "treatment_groups = [ 'Tiny Effect', \n",
    "                'Small Effect', \n",
    "                'Medium Effect',\n",
    "                'Big Effect' ]\n",
    "\n",
    "treatment_group_order = [1,2,3,4] \n",
    "\n",
    "\n",
    "df[\"treatment_outcome\"] = np.select(conditions, treatments, default=df['baseline_outcome'])\n",
    "df[\"treatment_group\"] = np.select(conditions, treatment_groups, default='No Effect')\n",
    "df[\"treatment_group_order\"] = np.select(conditions, treatment_group_order, default=0)\n",
    "\n",
    "# make observed outcome\n",
    "df = df.assign(observed_outcome = np.where(df['treatment']==1, df['treatment_outcome'], df['baseline_outcome']))\n",
    "\n",
    "print('Number of effective treatment units:') \n",
    "df[df['baseline_outcome']!=df['treatment_outcome']].shape[0]"
   ]
  },
  {
   "cell_type": "code",
   "execution_count": 4,
   "metadata": {},
   "outputs": [
    {
     "data": {
      "text/plain": [
       "treatment_group\n",
       "No Effect        7444\n",
       "Tiny Effect      1136\n",
       "Small Effect      615\n",
       "Medium Effect     535\n",
       "Big Effect        270\n",
       "Name: count, dtype: int64"
      ]
     },
     "execution_count": 4,
     "metadata": {},
     "output_type": "execute_result"
    }
   ],
   "source": [
    "df.treatment_group.value_counts()"
   ]
  },
  {
   "cell_type": "code",
   "execution_count": 5,
   "metadata": {},
   "outputs": [
    {
     "name": "stdout",
     "output_type": "stream",
     "text": [
      "                            OLS Regression Results                            \n",
      "==============================================================================\n",
      "Dep. Variable:       observed_outcome   R-squared:                       0.002\n",
      "Model:                            OLS   Adj. R-squared:                  0.002\n",
      "Method:                 Least Squares   F-statistic:                     21.69\n",
      "Date:                Thu, 03 Oct 2024   Prob (F-statistic):           3.25e-06\n",
      "Time:                        21:24:42   Log-Likelihood:                -41233.\n",
      "No. Observations:               10000   AIC:                         8.247e+04\n",
      "Df Residuals:                    9998   BIC:                         8.249e+04\n",
      "Df Model:                           1                                         \n",
      "Covariance Type:            nonrobust                                         \n",
      "==============================================================================\n",
      "                 coef    std err          t      P>|t|      [0.025      0.975]\n",
      "------------------------------------------------------------------------------\n",
      "Intercept     24.6696      0.210    117.591      0.000      24.258      25.081\n",
      "treatment      1.3923      0.299      4.657      0.000       0.806       1.978\n",
      "==============================================================================\n",
      "Omnibus:                     3750.400   Durbin-Watson:                   2.002\n",
      "Prob(Omnibus):                  0.000   Jarque-Bera (JB):              493.504\n",
      "Skew:                           0.033   Prob(JB):                    6.87e-108\n",
      "Kurtosis:                       1.914   Cond. No.                         2.60\n",
      "==============================================================================\n",
      "\n",
      "Notes:\n",
      "[1] Standard Errors assume that the covariance matrix of the errors is correctly specified.\n",
      "1.3923197615576928\n",
      "0.2989716577070137\n"
     ]
    }
   ],
   "source": [
    "# t-test\n",
    "\n",
    "ols_fit = smf.ols('observed_outcome ~ treatment', data=df).fit()\n",
    "print(ols_fit.summary())\n",
    "\n",
    "print(ols_fit.params.iloc[1])\n",
    "print(ols_fit.bse.iloc[1])"
   ]
  },
  {
   "cell_type": "markdown",
   "metadata": {
    "vscode": {
     "languageId": "perl"
    }
   },
   "source": [
    "## **Fitting and Evaluating T-learner**\n",
    "\n",
    "* OK... we see that the effect is pretty marginal, not statistically significant if we use the cutoff of 0.05. Let use the T-learner to see if we can get anything more out of this. \n",
    "* The below snippet borrows heavily from [Causal Inference for the Brave and True](https://matheusfacure.github.io/python-causality-handbook/21-Meta-Learners.html)."
   ]
  },
  {
   "cell_type": "code",
   "execution_count": 6,
   "metadata": {},
   "outputs": [],
   "source": [
    "y = \"observed_outcome\"\n",
    "T = \"treatment\"\n",
    "X = [\"income\", \"tv\", \"iphone\", \"new_user\", \"num_days_active_previous_month\", ]\n",
    "\n",
    "#split into test and train\n",
    "\n",
    "train = df.sample(frac=.6)\n",
    "test = df[~df.index.isin(train.index)]\n",
    "np.random.seed(123)\n",
    "\n",
    "#m0 = LGBMRegressor(max_depth=2, min_child_samples=60)\n",
    "#m1 = LGBMRegressor(max_depth=2, min_child_samples=60)\n",
    "\n",
    "m0 = RandomForestRegressor(max_depth=4)\n",
    "m1 = RandomForestRegressor(max_depth=4)\n",
    "\n",
    "m0.fit(train.query(f\"{T}==0\")[X], train.query(f\"{T}==0\")[y])\n",
    "m1.fit(train.query(f\"{T}==1\")[X], train.query(f\"{T}==1\")[y])\n",
    "\n",
    "# estimate the CATE\n",
    "t_learner_cate_train = m1.predict(train[X]) - m0.predict(train[X])\n",
    "t_learner_cate_test = test.assign(cate=m1.predict(test[X]) - m0.predict(test[X]))\n"
   ]
  },
  {
   "cell_type": "markdown",
   "metadata": {},
   "source": [
    "### **How does the T-learner do in terms of predicting the treatment effect for our groups?**\n",
    "* We can see how we do and plot against the real outcomes, since we actually know these. \n",
    "* As can be seen, we don't do a great job of predicting the value. But are able to predict the order, and often this is what matters most -- we're interested in who will benefit from an intervention the most. \n"
   ]
  },
  {
   "cell_type": "code",
   "execution_count": 17,
   "metadata": {},
   "outputs": [
    {
     "data": {
      "text/html": [
       "<div>\n",
       "<style scoped>\n",
       "    .dataframe tbody tr th:only-of-type {\n",
       "        vertical-align: middle;\n",
       "    }\n",
       "\n",
       "    .dataframe tbody tr th {\n",
       "        vertical-align: top;\n",
       "    }\n",
       "\n",
       "    .dataframe thead th {\n",
       "        text-align: right;\n",
       "    }\n",
       "</style>\n",
       "<table border=\"1\" class=\"dataframe\">\n",
       "  <thead>\n",
       "    <tr style=\"text-align: right;\">\n",
       "      <th></th>\n",
       "      <th>treatment_group</th>\n",
       "      <th>cate</th>\n",
       "      <th>true_treatment_effect</th>\n",
       "      <th>treatment_group_order</th>\n",
       "    </tr>\n",
       "  </thead>\n",
       "  <tbody>\n",
       "    <tr>\n",
       "      <th>2</th>\n",
       "      <td>No Effect</td>\n",
       "      <td>0.721197</td>\n",
       "      <td>0.000000</td>\n",
       "      <td>0.0</td>\n",
       "    </tr>\n",
       "    <tr>\n",
       "      <th>4</th>\n",
       "      <td>Tiny Effect</td>\n",
       "      <td>1.177114</td>\n",
       "      <td>2.563393</td>\n",
       "      <td>1.0</td>\n",
       "    </tr>\n",
       "    <tr>\n",
       "      <th>3</th>\n",
       "      <td>Small Effect</td>\n",
       "      <td>2.682849</td>\n",
       "      <td>4.690164</td>\n",
       "      <td>2.0</td>\n",
       "    </tr>\n",
       "    <tr>\n",
       "      <th>1</th>\n",
       "      <td>Medium Effect</td>\n",
       "      <td>2.609320</td>\n",
       "      <td>7.919731</td>\n",
       "      <td>3.0</td>\n",
       "    </tr>\n",
       "    <tr>\n",
       "      <th>0</th>\n",
       "      <td>Big Effect</td>\n",
       "      <td>3.862254</td>\n",
       "      <td>10.435398</td>\n",
       "      <td>4.0</td>\n",
       "    </tr>\n",
       "  </tbody>\n",
       "</table>\n",
       "</div>"
      ],
      "text/plain": [
       "  treatment_group      cate  true_treatment_effect  treatment_group_order\n",
       "2       No Effect  0.721197               0.000000                    0.0\n",
       "4     Tiny Effect  1.177114               2.563393                    1.0\n",
       "3    Small Effect  2.682849               4.690164                    2.0\n",
       "1   Medium Effect  2.609320               7.919731                    3.0\n",
       "0      Big Effect  3.862254              10.435398                    4.0"
      ]
     },
     "execution_count": 17,
     "metadata": {},
     "output_type": "execute_result"
    }
   ],
   "source": [
    "# true treatment effect\n",
    "t_learner_cate_test['true_treatment_effect'] = t_learner_cate_test['treatment_outcome'] - t_learner_cate_test['baseline_outcome']\n",
    "df_eval = t_learner_cate_test[['cate', 'true_treatment_effect', 'treatment_group', 'treatment_group_order']].groupby(['treatment_group']).mean().reset_index().sort_values(by='treatment_group_order')\n",
    "df_eval"
   ]
  },
  {
   "cell_type": "code",
   "execution_count": 25,
   "metadata": {},
   "outputs": [
    {
     "data": {
      "image/png": "[encoded data removed]",
      "text/plain": [
       "<Figure size 432x288 with 1 Axes>"
      ]
     },
     "metadata": {
      "needs_background": "light"
     },
     "output_type": "display_data"
    }
   ],
   "source": [
    "# plot\n",
    "bar_width = 0.35\n",
    "x = np.arange(len(df_eval['treatment_group']))\n",
    "fig, ax = plt.subplots()\n",
    "ax.bar(x - bar_width / 2, df_eval['cate'], bar_width, label='T-learner Estimate')\n",
    "ax.bar(x + bar_width / 2, df_eval['true_treatment_effect'], bar_width, label='True Effect')\n",
    "ax.set_xticks(x)\n",
    "ax.set_xticklabels(df_eval['treatment_group'], rotation=45)\n",
    "ax.legend()\n",
    "plt.title('True Effect vs. and CATE Estimate')\n",
    "plt.show()\n"
   ]
  },
  {
   "cell_type": "code",
   "execution_count": null,
   "metadata": {},
   "outputs": [],
   "source": []
  }
 ],
 "metadata": {
  "kernelspec": {
   "display_name": "Python 3",
   "language": "python",
   "name": "python3"
  },
  "language_info": {
   "codemirror_mode": {
    "name": "ipython",
    "version": 3
   },
   "file_extension": ".py",
   "mimetype": "text/x-python",
   "name": "python",
   "nbconvert_exporter": "python",
   "pygments_lexer": "ipython3",
   "version": "3.10.4"
  }
 },
 "nbformat": 4,
 "nbformat_minor": 2
}
